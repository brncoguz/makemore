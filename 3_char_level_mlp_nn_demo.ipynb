{
 "cells": [
  {
   "cell_type": "code",
   "execution_count": 1,
   "metadata": {},
   "outputs": [],
   "source": [
    "import torch\n",
    "import matplotlib.pyplot as plt\n",
    "import torch.nn.functional as F"
   ]
  },
  {
   "cell_type": "code",
   "execution_count": 3,
   "metadata": {},
   "outputs": [
    {
     "data": {
      "text/plain": [
       "['emma',\n",
       " 'olivia',\n",
       " 'ava',\n",
       " 'isabella',\n",
       " 'sophia',\n",
       " 'charlotte',\n",
       " 'mia',\n",
       " 'amelia',\n",
       " 'harper',\n",
       " 'evelyn']"
      ]
     },
     "execution_count": 3,
     "metadata": {},
     "output_type": "execute_result"
    }
   ],
   "source": [
    "# read the text file\n",
    "words = open('names.txt', 'r').read().splitlines()\n",
    "words[:10]"
   ]
  },
  {
   "cell_type": "code",
   "execution_count": 4,
   "metadata": {},
   "outputs": [],
   "source": [
    "chars = sorted(list(set(''.join(words))))\n",
    "stoi = {s:i+1 for i, s in enumerate(chars)}\n",
    "stoi['.'] = 0\n",
    "itos = {i:s for s,i in stoi.items()}"
   ]
  },
  {
   "cell_type": "code",
   "execution_count": 5,
   "metadata": {},
   "outputs": [],
   "source": [
    "# hyperparameters\n",
    "seed = 2147483647\n",
    "block_size = 3 # context length\n",
    "embedding_dim = 2\n",
    "hidden_layer_size = 100\n",
    "alphabet_size = len(itos)\n",
    "learning_rate = 0.1\n",
    "mini_batch_size = 32"
   ]
  },
  {
   "cell_type": "code",
   "execution_count": 8,
   "metadata": {},
   "outputs": [
    {
     "data": {
      "text/plain": [
       "(torch.Size([228146, 3]), torch.Size([228146]))"
      ]
     },
     "execution_count": 8,
     "metadata": {},
     "output_type": "execute_result"
    }
   ],
   "source": [
    "# build the dataset\n",
    "x, y = [], []\n",
    "\n",
    "for w in words:\n",
    "    context = [0] * block_size\n",
    "    for ch in w + '.':\n",
    "        ix = stoi[ch]\n",
    "        x.append(context)\n",
    "        y.append(ix)\n",
    "        # print(''.join([itos[i] for i in context]), '--->', itos[ix])\n",
    "        context = context[1:] + [ix] # slide the context\n",
    "\n",
    "x = torch.tensor(x)\n",
    "y = torch.tensor(y)\n",
    "x.shape, y.shape"
   ]
  },
  {
   "cell_type": "code",
   "execution_count": 9,
   "metadata": {},
   "outputs": [],
   "source": [
    "# parameters\n",
    "def reset_parameters():\n",
    "    g = torch.Generator().manual_seed(seed)\n",
    "    C = torch.randn((alphabet_size, embedding_dim), generator=g)\n",
    "    # first layer\n",
    "    W1 = torch.randn((block_size * embedding_dim, hidden_layer_size), generator=g)\n",
    "    b1 = torch.randn((hidden_layer_size), generator=g)\n",
    "    # second layer\n",
    "    W2 = torch.randn((hidden_layer_size, alphabet_size), generator=g)\n",
    "    b2 = torch.randn((alphabet_size), generator=g)\n",
    "    return C, W1, b1, W2, b2\n",
    "\n",
    "C, W1, b1, W2, b2 = reset_parameters()\n",
    "parameters = [C, W1, b1, W2, b2]"
   ]
  },
  {
   "cell_type": "code",
   "execution_count": 10,
   "metadata": {},
   "outputs": [
    {
     "data": {
      "text/plain": [
       "3481"
      ]
     },
     "execution_count": 10,
     "metadata": {},
     "output_type": "execute_result"
    }
   ],
   "source": [
    "# number of parameters\n",
    "sum(p.numel() for p in parameters)"
   ]
  },
  {
   "cell_type": "code",
   "execution_count": 11,
   "metadata": {},
   "outputs": [],
   "source": [
    "for p in parameters:\n",
    "    p.requires_grad_()"
   ]
  },
  {
   "cell_type": "code",
   "execution_count": 406,
   "metadata": {},
   "outputs": [
    {
     "name": "stdout",
     "output_type": "stream",
     "text": [
      "0th iteration loss: 19.505229949951172\n",
      "1th iteration loss: 17.084491729736328\n",
      "2th iteration loss: 15.776532173156738\n",
      "3th iteration loss: 14.833338737487793\n",
      "4th iteration loss: 14.002596855163574\n",
      "5th iteration loss: 13.253254890441895\n",
      "6th iteration loss: 12.579914093017578\n",
      "7th iteration loss: 11.983097076416016\n",
      "8th iteration loss: 11.470491409301758\n",
      "9th iteration loss: 11.05185604095459\n"
     ]
    }
   ],
   "source": [
    "for i in range(10):\n",
    "    # forward pass\n",
    "    emb = C[x] # (32, 3 , 2)\n",
    "    h = torch.tanh(emb.view(-1, block_size * embedding_dim) @ W1 + b1)\n",
    "    logits = h @ W2 + b2\n",
    "    # counts = logits.exp()\n",
    "    # prob = counts / counts.sum(dim=1, keepdim=True)\n",
    "    # loss = -prob[torch.arange(5), y].log().mean()\n",
    "    loss = F.cross_entropy(logits, y)\n",
    "    print(f'{i}th iteration loss: {loss.item()}')\n",
    "\n",
    "    # backward pass\n",
    "    for p in parameters:\n",
    "        p.grad = None\n",
    "    loss.backward()\n",
    "\n",
    "    # update the parameters\n",
    "    for p in parameters:\n",
    "        p.data -= learning_rate * p.grad\n"
   ]
  },
  {
   "cell_type": "code",
   "execution_count": 407,
   "metadata": {},
   "outputs": [
    {
     "name": "stdout",
     "output_type": "stream",
     "text": [
      "0th iteration loss: 10.426352500915527, learning rate: 0.0010000000474974513\n",
      "100th iteration loss: 11.404221534729004, learning rate: 0.001996642677113414\n",
      "200th iteration loss: 7.499330997467041, learning rate: 0.003986582159996033\n",
      "300th iteration loss: 7.412033557891846, learning rate: 0.007959775626659393\n",
      "400th iteration loss: 7.594030380249023, learning rate: 0.01589282788336277\n",
      "500th iteration loss: 5.07920503616333, learning rate: 0.03173229098320007\n",
      "600th iteration loss: 2.9455490112304688, learning rate: 0.06335804611444473\n",
      "700th iteration loss: 2.717862129211426, learning rate: 0.1265033781528473\n",
      "800th iteration loss: 3.491755247116089, learning rate: 0.25258201360702515\n",
      "900th iteration loss: 6.334482669830322, learning rate: 0.504315972328186\n"
     ]
    }
   ],
   "source": [
    "training_iterations = 1000\n",
    "lri = []\n",
    "lossi = []\n",
    "\n",
    "lre = torch.linspace(-3, 0, training_iterations)\n",
    "lrs = 10**lre\n",
    "\n",
    "# use mini batches\n",
    "for i in range(training_iterations):\n",
    "    ix = torch.randint(0, x.shape[0], (mini_batch_size,))\n",
    "\n",
    "    # forward pass\n",
    "    emb = C[x[ix]]\n",
    "    h = torch.tanh(emb.view(-1, block_size * embedding_dim) @ W1 + b1)\n",
    "    logits = h @ W2 + b2\n",
    "    loss = F.cross_entropy(logits, y[ix])\n",
    "    if i % (training_iterations/10) == 0:\n",
    "        print(f'{i}th iteration loss: {loss.item()}, learning rate: {lrs[i]}')\n",
    "\n",
    "    # backward pass\n",
    "    for p in parameters:\n",
    "        p.grad = None\n",
    "    loss.backward()\n",
    "\n",
    "    # keep track of loss and lr\n",
    "    lri.append(lre[i])\n",
    "    lossi.append(loss.item())\n",
    "\n",
    "    # update the parameters\n",
    "    for p in parameters:\n",
    "        p.data -= lrs[i] * p.grad"
   ]
  },
  {
   "cell_type": "code",
   "execution_count": 408,
   "metadata": {},
   "outputs": [
    {
     "data": {
      "text/plain": [
       "tensor(7.8875, grad_fn=<NllLossBackward0>)"
      ]
     },
     "execution_count": 408,
     "metadata": {},
     "output_type": "execute_result"
    }
   ],
   "source": [
    "emb = C[x] \n",
    "h = torch.tanh(emb.view(-1, block_size * embedding_dim) @ W1 + b1)\n",
    "logits = h @ W2 + b2\n",
    "loss = F.cross_entropy(logits, y)\n",
    "loss"
   ]
  },
  {
   "cell_type": "code",
   "execution_count": 409,
   "metadata": {},
   "outputs": [
    {
     "data": {
      "text/plain": [
       "[<matplotlib.lines.Line2D at 0x13794bfd0>]"
      ]
     },
     "execution_count": 409,
     "metadata": {},
     "output_type": "execute_result"
    },
    {
     "data": {
      "image/png": "[encoded data removed]",
      "text/plain": [
       "<Figure size 640x480 with 1 Axes>"
      ]
     },
     "metadata": {},
     "output_type": "display_data"
    }
   ],
   "source": [
    "# plot the learning rate / loss curve\n",
    "plt.plot(lri, lossi) # 0.1 looks like a good learning rate"
   ]
  },
  {
   "cell_type": "code",
   "execution_count": 410,
   "metadata": {},
   "outputs": [
    {
     "name": "stdout",
     "output_type": "stream",
     "text": [
      "0th iteration loss: 9.557682037353516\n",
      "2000th iteration loss: 2.508436441421509\n",
      "4000th iteration loss: 2.514707326889038\n",
      "6000th iteration loss: 2.353314161300659\n",
      "8000th iteration loss: 2.5112898349761963\n",
      "10000th iteration loss: 2.5420806407928467\n",
      "12000th iteration loss: 2.222245931625366\n",
      "14000th iteration loss: 2.4578216075897217\n",
      "16000th iteration loss: 2.408839702606201\n",
      "18000th iteration loss: 2.476323366165161\n"
     ]
    },
    {
     "data": {
      "text/plain": [
       "tensor(2.3926, grad_fn=<NllLossBackward0>)"
      ]
     },
     "execution_count": 410,
     "metadata": {},
     "output_type": "execute_result"
    }
   ],
   "source": [
    "training_iterations = 20000\n",
    "learning_rate = 0.5\n",
    "\n",
    "# use mini batches\n",
    "for i in range(training_iterations):\n",
    "    ix = torch.randint(0, x.shape[0], (mini_batch_size,))\n",
    "\n",
    "    # forward pass\n",
    "    emb = C[x[ix]]\n",
    "    h = torch.tanh(emb.view(-1, block_size * embedding_dim) @ W1 + b1)\n",
    "    logits = h @ W2 + b2\n",
    "    loss = F.cross_entropy(logits, y[ix])\n",
    "    if i % (training_iterations/10) == 0:\n",
    "        print(f'{i}th iteration loss: {loss.item()}')\n",
    "\n",
    "    # backward pass\n",
    "    for p in parameters:\n",
    "        p.grad = None\n",
    "    loss.backward()\n",
    "\n",
    "    # lr decay\n",
    "    if i % (training_iterations/4) == 0:\n",
    "        learning_rate /= 5\n",
    "\n",
    "    # update the parameters\n",
    "    for p in parameters:\n",
    "        p.data -= learning_rate * p.grad\n",
    "\n",
    "emb = C[x] \n",
    "h = torch.tanh(emb.view(-1, block_size * embedding_dim) @ W1 + b1)\n",
    "logits = h @ W2 + b2\n",
    "loss = F.cross_entropy(logits, y)\n",
    "loss"
   ]
  },
  {
   "cell_type": "code",
   "execution_count": 13,
   "metadata": {},
   "outputs": [
    {
     "name": "stdout",
     "output_type": "stream",
     "text": [
      "torch.Size([182625, 3]) torch.Size([182625])\n",
      "torch.Size([22655, 3]) torch.Size([22655])\n",
      "torch.Size([22866, 3]) torch.Size([22866])\n"
     ]
    }
   ],
   "source": [
    "# let's split the dataset into training, validation and test sets\n",
    "def build_dataset(words):\n",
    "    block_size = 3\n",
    "    x, y = [], []\n",
    "    for w in words:\n",
    "        context = [0] * block_size\n",
    "        for ch in w + '.':\n",
    "            ix = stoi[ch]\n",
    "            x.append(context)\n",
    "            y.append(ix)\n",
    "            context = context[1:] + [ix] # slide the context\n",
    "\n",
    "    x = torch.tensor(x)\n",
    "    y = torch.tensor(y)\n",
    "    print(x.shape, y.shape)\n",
    "    return x, y\n",
    "\n",
    "import random\n",
    "random.seed(42)\n",
    "random.shuffle(words)\n",
    "n1 = int(0.8 * len(words))\n",
    "n2 = int(0.9 * len(words))\n",
    "\n",
    "Xtr, Ytr = build_dataset(words[:n1])\n",
    "Xdev, Ydev = build_dataset(words[n1:n2])\n",
    "Xte, Yte = build_dataset(words[n2:])"
   ]
  },
  {
   "cell_type": "code",
   "execution_count": 19,
   "metadata": {},
   "outputs": [
    {
     "name": "stdout",
     "output_type": "stream",
     "text": [
      "0th iteration loss: 32.0539665222168\n",
      "10000th iteration loss: 2.2922236919403076\n",
      "20000th iteration loss: 2.8701987266540527\n",
      "30000th iteration loss: 2.657052993774414\n",
      "40000th iteration loss: 2.6812124252319336\n",
      "50000th iteration loss: 2.3045685291290283\n",
      "60000th iteration loss: 2.0472702980041504\n",
      "70000th iteration loss: 2.200258255004883\n",
      "80000th iteration loss: 2.189608097076416\n",
      "90000th iteration loss: 2.2814347743988037\n"
     ]
    }
   ],
   "source": [
    "# let's train a bigger model\n",
    "embedding_dim = 10\n",
    "hidden_layer_size = 300\n",
    "\n",
    "C, W1, b1, W2, b2 = reset_parameters()\n",
    "parameters = [C, W1, b1, W2, b2]\n",
    "for p in parameters:\n",
    "    p.requires_grad_()\n",
    "\n",
    "stepi = []\n",
    "lossi = []\n",
    "\n",
    "training_iterations = 100000\n",
    "learning_rate = 0.5\n",
    "\n",
    "for i in range(training_iterations):\n",
    "\n",
    "    # mini batch contruct\n",
    "    ix = torch.randint(0, Xtr.shape[0], (mini_batch_size,))\n",
    "\n",
    "    # forward pass\n",
    "    emb = C[Xtr[ix]]\n",
    "    h = torch.tanh(emb.view(-1, block_size * embedding_dim) @ W1 + b1)\n",
    "    logits = h @ W2 + b2\n",
    "    loss = F.cross_entropy(logits, Ytr[ix])\n",
    "    if i % (training_iterations/10) == 0:\n",
    "        print(f'{i}th iteration loss: {loss.item()}')\n",
    "\n",
    "    # backward pass\n",
    "    for p in parameters:\n",
    "        p.grad = None\n",
    "    loss.backward()\n",
    "\n",
    "    # lr decay\n",
    "    if i % (training_iterations/4) == 0:\n",
    "        learning_rate /= 5\n",
    "\n",
    "    # track stats\n",
    "    stepi.append(i)\n",
    "    lossi.append(loss.log10().item())\n",
    "\n",
    "    # update the parameters\n",
    "    for p in parameters:\n",
    "        p.data -= learning_rate * p.grad"
   ]
  },
  {
   "cell_type": "code",
   "execution_count": 20,
   "metadata": {},
   "outputs": [
    {
     "data": {
      "text/plain": [
       "tensor(2.2330, grad_fn=<NllLossBackward0>)"
      ]
     },
     "execution_count": 20,
     "metadata": {},
     "output_type": "execute_result"
    }
   ],
   "source": [
    "# validation loss\n",
    "emb = C[Xdev] \n",
    "h = torch.tanh(emb.view(-1, block_size * embedding_dim) @ W1 + b1)\n",
    "logits = h @ W2 + b2\n",
    "loss = F.cross_entropy(logits, Ydev)\n",
    "loss"
   ]
  },
  {
   "cell_type": "code",
   "execution_count": 21,
   "metadata": {},
   "outputs": [
    {
     "data": {
      "text/plain": [
       "tensor(2.1972, grad_fn=<NllLossBackward0>)"
      ]
     },
     "execution_count": 21,
     "metadata": {},
     "output_type": "execute_result"
    }
   ],
   "source": [
    "# training loss\n",
    "emb = C[Xtr] \n",
    "h = torch.tanh(emb.view(-1, block_size * embedding_dim) @ W1 + b1)\n",
    "logits = h @ W2 + b2\n",
    "loss = F.cross_entropy(logits, Ytr)\n",
    "loss"
   ]
  },
  {
   "cell_type": "markdown",
   "metadata": {},
   "source": [
    "at this point we're starting to see some overfitting"
   ]
  },
  {
   "cell_type": "code",
   "execution_count": 454,
   "metadata": {},
   "outputs": [
    {
     "data": {
      "text/plain": [
       "[<matplotlib.lines.Line2D at 0x16e19a550>]"
      ]
     },
     "execution_count": 454,
     "metadata": {},
     "output_type": "execute_result"
    },
    {
     "data": {
      "image/png": "[encoded data removed]",
      "text/plain": [
       "<Figure size 640x480 with 1 Axes>"
      ]
     },
     "metadata": {},
     "output_type": "display_data"
    }
   ],
   "source": [
    "# plot the loss\n",
    "plt.plot(stepi, lossi)"
   ]
  },
  {
   "cell_type": "code",
   "execution_count": 444,
   "metadata": {},
   "outputs": [
    {
     "data": {
      "image/png": "[encoded data removed]",
      "text/plain": [
       "<Figure size 800x800 with 1 Axes>"
      ]
     },
     "metadata": {},
     "output_type": "display_data"
    }
   ],
   "source": [
    "# visualise the embeddings (works only if embedding_dim == 2)\n",
    "def visualise_embeddings():\n",
    "    plt.figure(figsize=(8, 8))\n",
    "    plt.scatter(C[:, 0].data, C[:, 1].data, s=200)\n",
    "    for i in range(C.shape[0]):\n",
    "        plt.text(C[i, 0].item(), C[i, 1].item(), itos[i], ha='center', va='center', color='white')\n",
    "    plt.grid('minor')\n",
    "# visualise_embeddings()"
   ]
  },
  {
   "cell_type": "code",
   "execution_count": 22,
   "metadata": {},
   "outputs": [
    {
     "name": "stdout",
     "output_type": "stream",
     "text": [
      "cerie\n",
      "zomalurailezity\n",
      "kell\n",
      "imitta\n",
      "nella\n",
      "kamanda\n",
      "samiyah\n",
      "javer\n",
      "gotot\n",
      "molie\n",
      "cavo\n",
      "kented\n",
      "jen\n",
      "emva\n",
      "sade\n",
      "enkamirry\n",
      "foba\n",
      "mhikingavtahlyn\n",
      "kasdro\n",
      "anell\n"
     ]
    }
   ],
   "source": [
    "# sample from the model\n",
    "seed = 2147483647\n",
    "g = torch.Generator().manual_seed(seed)\n",
    "\n",
    "# sample 20 names\n",
    "ix = 0\n",
    "for _ in range(20):\n",
    "    out = ''\n",
    "    context = [0] * block_size\n",
    "\n",
    "    while True:\n",
    "        emb = C[torch.tensor([context])]\n",
    "        h = torch.tanh(emb.view(1, -1) @ W1 + b1)\n",
    "        logits = h @ W2 + b2\n",
    "        probs = F.softmax(logits, dim=1)\n",
    "        ix = torch.multinomial(probs, num_samples=1, generator=g).item()\n",
    "        context = context[1:] + [ix]\n",
    "\n",
    "        if ix == 0:\n",
    "            break\n",
    "        out += itos[ix]\n",
    "        \n",
    "    print(out)"
   ]
  }
 ],
 "metadata": {
  "kernelspec": {
   "display_name": ".venv",
   "language": "python",
   "name": "python3"
  },
  "language_info": {
   "codemirror_mode": {
    "name": "ipython",
    "version": 3
   },
   "file_extension": ".py",
   "mimetype": "text/x-python",
   "name": "python",
   "nbconvert_exporter": "python",
   "pygments_lexer": "ipython3",
   "version": "3.9.19"
  }
 },
 "nbformat": 4,
 "nbformat_minor": 2
}
